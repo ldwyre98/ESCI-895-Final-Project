{
 "cells": [
  {
   "cell_type": "markdown",
   "id": "e311b404",
   "metadata": {},
   "source": [
    "## Methods and Results\n",
    "Note: Graphs will look much more professional and organized for final report.\n",
    "Questions for Anne during Project Work Time 12/2:\n",
    "   Important:\n",
    "   1. For loop for wind data: have 4 columns, 2 are start and end dates for flooding days, and two are start and end dates for non-flooding days. How do I create a for loop that creates 10 plots but 5 are for the flooding days and 5 are for the non-flooding days?\n",
    "   2. For loop for SLR data: I want to create a for loop that adds columns for the decades where the values are equal to slr*(decade-2000)+df_2000('Verified (ft)')\n",
    "   3. For interpolation of annual flood hours, should I do linear, power, or quadratic? When I plot a histogram of the frequency  for flood hours, the log transform of the data has a slightly more normal distribution?\n",
    "### Importing Libraries and Reading in Datafiles\n",
    "The first thing that was done was import important Python libraries that were going to be used throughout the analysis. These libraries included NumPy, Pandas, Matplotlib, and datetime."
   ]
  },
  {
   "cell_type": "code",
   "execution_count": 1,
   "id": "31d00ce9",
   "metadata": {},
   "outputs": [],
   "source": [
    "import numpy as np                   # functions for data analysis \n",
    "import pandas as pd                  # functions for data frames\n",
    "from matplotlib import pyplot as plt # functions for plotting\n",
    "import datetime\n",
    "import glob"
   ]
  },
  {
   "cell_type": "markdown",
   "id": "5f20aeee",
   "metadata": {},
   "source": [
    "Next, the datafiles that were used for the analysis were downloaded. This included the dataset from 2000 to 2020 for the Nantucket, MA Station (datum was Mean Sea Level (MSL)) and the 2020 dataset for the NOAA Local Climatology Station at Nantucket Airport, MA. These files were downloaded as CSV files and saved into the working directory for the project. Information regarding the minor or nuisance flood thresholds specific to the Massachusetts Coast were gathered from the NOAA Inundation History site where a minor flood threshold for Nantucket is given as about 3.25 feet above MSL. The Mean High High Water (MHHW) datum was also recorded. Sea Level Trend data was also gathered from the NOAA Sea Level Trend Site where a 3.79 mm/year was determined as the relative sea level trend for the Nantucket station.  Once this data were gathered and organized, the constants were defined to be used throughout the code. These constants included the filenames, locations of the stations used, minor flood threshold, MHHW datum, and sea level trend."
   ]
  },
  {
   "cell_type": "code",
   "execution_count": 2,
   "id": "72254833",
   "metadata": {
    "scrolled": true
   },
   "outputs": [],
   "source": [
    "path = r'C:\\Users\\ldwyr\\OneDrive\\Desktop\\ESCI 895\\Project\\WL_CSV'\n",
    "filenames = glob.glob(path + \"/*.csv\")\n",
    "wind_filename = 'wind.csv'\n",
    "df_list = []\n",
    "location = 'Nantucket, MA'\n",
    "datum = 'Mean Sea Level'\n",
    "threshold = 3.25\n",
    "mhhw = 1.8\n",
    "slr = 3.79"
   ]
  },
  {
   "cell_type": "markdown",
   "id": "c9019be6",
   "metadata": {},
   "source": [
    "Since the NOAA Water Level Data could only be downloaded for one year at a time, a for loop was created to read in each of the water level files with defining nan values as “NaN”, \"-\", “9999”, and “-9999” and saving all of the read in files into a list. These nan values were then filled using the \"Predicted (ft)\" column. The dataframes were saved by concating the datafrma list into a single dataframe (df_wl) . The index was then set to be both the Date and the Time columns. The other columns were dropped except for the verified water level data and the NOAA predicted water level data. "
   ]
  },
  {
   "cell_type": "code",
   "execution_count": 3,
   "id": "a9d3a103",
   "metadata": {},
   "outputs": [],
   "source": [
    "df_list = []\n",
    "for filename in filenames:\n",
    "    df = pd.read_csv(filename, delimiter=\",\", comment='%', header=0, na_values=(9999, -9999, \"NaN\",'-'))\n",
    "    df = df[['Time (LST)', 'Predicted (ft)', 'Verified (ft)', 'Date']]\n",
    "    # This loc statement isn't working but will be fixed for final results\n",
    "    df.loc[df['Verified (ft)'] == 'NaN', 'Verified (ft)'] = df.loc[df['Verified (ft)'] == 'NaN', 'Predicted (ft)'].values\n",
    "    df_list.append(df)\n",
    "df_wl = pd.concat(df_list)\n",
    "df_wl['datetime'] = pd.to_datetime(df_wl['Date'].astype(str)+' '+df_wl['Time (LST)'].astype(str))\n",
    "df_wl.set_index('datetime', inplace = True)\n",
    "df_wl = df_wl[['Predicted (ft)', 'Verified (ft)']]"
   ]
  },
  {
   "cell_type": "markdown",
   "id": "9821b26d",
   "metadata": {},
   "source": [
    "Two new dataframes were created, one for the year 2000 and one for the year 2020. This was done to compare the water level data from the beginning of the analysis record to the end. A figure showing two timeseries plot, one for each year with the threshold plotted as a horizontal line on both graphs."
   ]
  },
  {
   "cell_type": "code",
   "execution_count": 4,
   "id": "e848ea38",
   "metadata": {},
   "outputs": [],
   "source": [
    "start_dates = [datetime.datetime(2000, 1, 1), datetime.datetime(2020, 1, 1)]\n",
    "end_dates = [datetime.datetime(2000, 12, 31), datetime.datetime(2020, 12, 31)]\n",
    "df_2000 = df_wl[start_dates[0]:end_dates[0]] \n",
    "df_2020 = df_wl[start_dates[1]:end_dates[1]]"
   ]
  },
  {
   "cell_type": "code",
   "execution_count": 5,
   "id": "ffcfaa13",
   "metadata": {},
   "outputs": [
    {
     "data": {
      "text/plain": [
       "[<matplotlib.lines.Line2D at 0x1fb916d13a0>]"
      ]
     },
     "execution_count": 5,
     "metadata": {},
     "output_type": "execute_result"
    },
    {
     "data": {
      "image/png": "[encoded data removed]",
      "text/plain": [
       "<Figure size 432x288 with 2 Axes>"
      ]
     },
     "metadata": {
      "needs_background": "light"
     },
     "output_type": "display_data"
    }
   ],
   "source": [
    "fig, (ax1, ax2) = plt.subplots(nrows = 2, ncols = 1)\n",
    "ax1.plot(df_2000['Verified (ft)'])\n",
    "ax2.plot(df_2020['Verified (ft)'])\n",
    "# will plot threshold line but trying to figure out how to do this on both graphs"
   ]
  },
  {
   "cell_type": "markdown",
   "id": "b3ae1daf",
   "metadata": {},
   "source": [
    "### Determining Flood Hours\n",
    "A similar analysis that was performed by the NOAA technical report, Sea Level Rise and Nuisance Flood Frequency Changes around the United States, where the dates, times, and water levels that were at or above the defined minor flooding threshold were located and extracted from df_wl and moved to a new dataframe named df_years.  These times were found by using True/False statements where any water level that was at or above the threshold value defined was determined as True and all other values were determined as False. These True/False values were saved in the df_wl in a column titled \"Boolean\". The number of hours per year where high tide flooding occurred was calculated by summing the \"Boolean\" column and grouped by years."
   ]
  },
  {
   "cell_type": "code",
   "execution_count": 6,
   "id": "fe49e572",
   "metadata": {},
   "outputs": [
    {
     "name": "stderr",
     "output_type": "stream",
     "text": [
      "C:\\Users\\ldwyr\\anaconda3\\lib\\site-packages\\pandas\\core\\arraylike.py:358: RuntimeWarning: divide by zero encountered in log10\n",
      "  result = getattr(ufunc, method)(*inputs, **kwargs)\n"
     ]
    }
   ],
   "source": [
    "df_wl['Boolean'] = np.where(df_wl['Verified (ft)'] >= threshold, True, False)\n",
    "df_wl['day'] = df_wl.index.day\n",
    "df_wl['month'] = df_wl.index.month\n",
    "df_wl['year'] = df_wl.index.year\n",
    "years = [2000, 2001, 2002, 2003, 2004, 2005, 2006, 2007, 2008, 2009, 2010, 2011, 2012, 2013, 2014, 2015, 2016, 2017, 2018, \n",
    "         2019, 2020]\n",
    "df_years = pd.DataFrame(years, columns = ['Year'])\n",
    "df_years.set_index('Year', inplace = True)\n",
    "df_years['flood_hours'] = df_wl[['Boolean', 'year']].groupby('year').sum()\n",
    "df_years['log(flood)'] = np.log10(df_years['flood_hours'])\n",
    "df_years.iloc[0, 1] = np.nan"
   ]
  },
  {
   "cell_type": "markdown",
   "id": "1fcc2017",
   "metadata": {},
   "source": [
    "#### Distribution of Flood Hours\n",
    "A figure was made showing two histograms, one of the distribution of the flood hours and one of the log transformed flood hours. The average flood hours were plotted as vertical lines on each graph."
   ]
  },
  {
   "cell_type": "code",
   "execution_count": 7,
   "id": "8b778235",
   "metadata": {},
   "outputs": [
    {
     "data": {
      "text/plain": [
       "(array([1., 0., 0., 7., 3., 2., 3., 2., 1., 1.]),\n",
       " array([0.47712125, 0.62131694, 0.76551262, 0.90970831, 1.05390399,\n",
       "        1.19809967, 1.34229536, 1.48649104, 1.63068672, 1.77488241,\n",
       "        1.91907809]),\n",
       " <BarContainer object of 10 artists>)"
      ]
     },
     "execution_count": 7,
     "metadata": {},
     "output_type": "execute_result"
    },
    {
     "data": {
      "image/png": "[encoded data removed]",
      "text/plain": [
       "<Figure size 432x288 with 2 Axes>"
      ]
     },
     "metadata": {
      "needs_background": "light"
     },
     "output_type": "display_data"
    }
   ],
   "source": [
    "avg = np.mean(df_years['flood_hours'])\n",
    "avg_log = np.mean(df_years['log(flood)'])\n",
    "fig, (ax1, ax2) = plt.subplots(nrows = 1, ncols = 2)\n",
    "ax4.hist(df_years['flood_hours'])\n",
    "ax5.hist(df_years['log(flood)'])"
   ]
  },
  {
   "cell_type": "markdown",
   "id": "6b448017",
   "metadata": {},
   "source": [
    "#### Interpolation of the Flood Hours\n",
    "A linear interpolation of the flood hours over time was performed and plotted against the flood hours measured. The interpolated line was labeled with the equation and the correlation coefficient to determine the extent to which the data follows a linear trend."
   ]
  },
  {
   "cell_type": "code",
   "execution_count": 8,
   "id": "f5f59fa2",
   "metadata": {},
   "outputs": [
    {
     "data": {
      "image/png": "[encoded data removed]",
      "text/plain": [
       "<Figure size 432x288 with 1 Axes>"
      ]
     },
     "metadata": {
      "needs_background": "light"
     },
     "output_type": "display_data"
    }
   ],
   "source": [
    "# Since the above histogram shows that the log-transform of the data shows a more normal distribution, I might try to do \n",
    "# this analysis with a power interpolation. However, here is the analysis with linear interpolation.\n",
    "df_years['year_interp'] = years\n",
    "slope, intercept = np.polyfit(df_years['year_interp'], df_years['flood_hours'], 1)\n",
    "df_years['interp'] = df_years['year_interp']*slope+intercept\n",
    "fig, ax = plt.subplots()\n",
    "ax.scatter(df_years['year_interp'], df_years['flood_hours'])\n",
    "line = ax.plot(df_years['interp'], label = 'y = 1.697x - 3391', color = 'r')\n"
   ]
  },
  {
   "cell_type": "markdown",
   "id": "e7be1efc",
   "metadata": {},
   "source": [
    "### Determining Influences of Flood Hours\n",
    "#### Seasonality\n",
    "The NOAA technical report analyzed whether seasonality influenced the amount of high tide flooding that occurred throughout the year. This analysis helps communities plan for flooding during different times of the year. For example, if the fall season has more high tide flooding events occur than in the spring, communities can implement more protection measures during this time of year and less in the spring. The number of flood hours per month was determined similarly to the flood hours per year, except with this analysis, the sum of the True was grouped by the month instead of the year."
   ]
  },
  {
   "cell_type": "code",
   "execution_count": 9,
   "id": "01b33868",
   "metadata": {},
   "outputs": [
    {
     "data": {
      "text/plain": [
       "<BarContainer object of 12 artists>"
      ]
     },
     "execution_count": 9,
     "metadata": {},
     "output_type": "execute_result"
    },
    {
     "data": {
      "image/png": "[encoded data removed]",
      "text/plain": [
       "<Figure size 432x288 with 1 Axes>"
      ]
     },
     "metadata": {
      "needs_background": "light"
     },
     "output_type": "display_data"
    }
   ],
   "source": [
    "dfmonth = df_wl[['Boolean', 'month']].groupby('month').sum() \n",
    "dfmonth['Month Name'] = ['Jan', 'Feb', 'Mar', 'Apr', 'May', 'June', 'July', 'Aug',\n",
    "                        'Sept', 'Oct', 'Nov', 'Dec']\n",
    "\n",
    "fig, ax = plt.subplots()\n",
    "ax.bar(dfmonth['Month Name'], dfmonth['Boolean'])"
   ]
  },
  {
   "cell_type": "code",
   "execution_count": 28,
   "id": "e57ca68f",
   "metadata": {},
   "outputs": [
    {
     "name": "stdout",
     "output_type": "stream",
     "text": [
      "15.788732394366198\n",
      "Centroid date =  01/15\n"
     ]
    }
   ],
   "source": [
    "# Calculating centroid to describe the seasonality\n",
    "dfmonth['jdaymid'] = df_wl['day'].groupby(df_wl['month']).median()\n",
    "centroid = sum(dfmonth['jdaymid']*dfmonth['Boolean'])/sum(dfmonth['Boolean'])\n",
    "print(centroid)\n",
    "print('Centroid date = ',\n",
    "      datetime.datetime.strftime(pd.to_datetime(centroid, format=\"%j\"),'%m/%d'))\n"
   ]
  },
  {
   "cell_type": "code",
   "execution_count": null,
   "id": "572c22ad",
   "metadata": {},
   "outputs": [],
   "source": []
  },
  {
   "cell_type": "markdown",
   "id": "382b5c00",
   "metadata": {},
   "source": [
    "#### Wind\n",
    "Wind data from NOAA's Local Climatology station in Nantucket was downloaded for the year, 2020. It was read in using the DATE column as the index. The NaN values were defined as '9999', '-9999', 'NaN', and '-' and were filled using the forward fill method because there were not many data gaps. All of the columns were dropped except for the Hourly Wind Direction and the Hourly Wind Speed. The water level data for the year 2020 was analyzed to determine the dates where minor flooding occurred. Histograms of windspeed and direction were created for the flood dates as well as dates that were 2 weeks after each flood event to analyze the difference in windspeed and direction between flood days and non-flood days. The reason two weeks was chosen as the time difference was because there wanted to be enough time to make sure there was enough time after the flooding event but also ensure that they were within the same season since as shown above, seasonality has an effect on flooding."
   ]
  },
  {
   "cell_type": "code",
   "execution_count": 33,
   "id": "4162c464",
   "metadata": {},
   "outputs": [
    {
     "name": "stderr",
     "output_type": "stream",
     "text": [
      "C:\\Users\\ldwyr\\anaconda3\\lib\\site-packages\\IPython\\core\\interactiveshell.py:3165: DtypeWarning: Columns (21,27,28,29,31,38,42,43,59,60,63,115,118,120) have mixed types.Specify dtype option on import or set low_memory=False.\n",
      "  has_raised = await self.run_ast_nodes(code_ast.body, cell_name,\n",
      "<ipython-input-33-ad67f78c3c7a>:6: SettingWithCopyWarning: \n",
      "A value is trying to be set on a copy of a slice from a DataFrame.\n",
      "Try using .loc[row_indexer,col_indexer] = value instead\n",
      "\n",
      "See the caveats in the documentation: https://pandas.pydata.org/pandas-docs/stable/user_guide/indexing.html#returning-a-view-versus-a-copy\n",
      "  df_2020['Boolean'] = np.where(df_2020['Verified (ft)'] >= threshold, True, False)\n"
     ]
    },
    {
     "data": {
      "text/html": [
       "<div>\n",
       "<style scoped>\n",
       "    .dataframe tbody tr th:only-of-type {\n",
       "        vertical-align: middle;\n",
       "    }\n",
       "\n",
       "    .dataframe tbody tr th {\n",
       "        vertical-align: top;\n",
       "    }\n",
       "\n",
       "    .dataframe thead th {\n",
       "        text-align: right;\n",
       "    }\n",
       "</style>\n",
       "<table border=\"1\" class=\"dataframe\">\n",
       "  <thead>\n",
       "    <tr style=\"text-align: right;\">\n",
       "      <th></th>\n",
       "      <th>Flood1</th>\n",
       "      <th>Flood2</th>\n",
       "      <th>No Flood1</th>\n",
       "      <th>No Flood2</th>\n",
       "    </tr>\n",
       "  </thead>\n",
       "  <tbody>\n",
       "    <tr>\n",
       "      <th>0</th>\n",
       "      <td>2020-04-04</td>\n",
       "      <td>2020-04-05</td>\n",
       "      <td>2020-04-18</td>\n",
       "      <td>2020-04-19</td>\n",
       "    </tr>\n",
       "    <tr>\n",
       "      <th>1</th>\n",
       "      <td>2020-06-03</td>\n",
       "      <td>2020-06-04</td>\n",
       "      <td>2020-06-17</td>\n",
       "      <td>2020-06-18</td>\n",
       "    </tr>\n",
       "    <tr>\n",
       "      <th>2</th>\n",
       "      <td>2020-07-03</td>\n",
       "      <td>2020-07-04</td>\n",
       "      <td>2020-07-17</td>\n",
       "      <td>2020-07-18</td>\n",
       "    </tr>\n",
       "    <tr>\n",
       "      <th>3</th>\n",
       "      <td>2020-09-22</td>\n",
       "      <td>2020-09-23</td>\n",
       "      <td>2020-10-06</td>\n",
       "      <td>2020-10-07</td>\n",
       "    </tr>\n",
       "    <tr>\n",
       "      <th>4</th>\n",
       "      <td>2020-12-17</td>\n",
       "      <td>2020-12-18</td>\n",
       "      <td>2020-12-30</td>\n",
       "      <td>2020-12-31</td>\n",
       "    </tr>\n",
       "  </tbody>\n",
       "</table>\n",
       "</div>"
      ],
      "text/plain": [
       "      Flood1     Flood2  No Flood1  No Flood2\n",
       "0 2020-04-04 2020-04-05 2020-04-18 2020-04-19\n",
       "1 2020-06-03 2020-06-04 2020-06-17 2020-06-18\n",
       "2 2020-07-03 2020-07-04 2020-07-17 2020-07-18\n",
       "3 2020-09-22 2020-09-23 2020-10-06 2020-10-07\n",
       "4 2020-12-17 2020-12-18 2020-12-30 2020-12-31"
      ]
     },
     "execution_count": 33,
     "metadata": {},
     "output_type": "execute_result"
    }
   ],
   "source": [
    "df_wind = pd.read_csv(wind_filename, delimiter=\",\", comment='%', header=0, parse_dates=['DATE'], index_col=['DATE'], \n",
    "                     na_values=(9999, -9999, \"NaN\",'-'))\n",
    "df_wind = df_wind[['HourlyWindDirection', 'HourlyWindSpeed']]\n",
    "df_wind = df_wind.fillna(method = 'ffill')\n",
    "\n",
    "df_2020['Boolean'] = np.where(df_2020['Verified (ft)'] >= threshold, True, False)\n",
    "\n",
    "flood_dates1 = [datetime.datetime(2020, 4, 4), datetime.datetime(2020, 6, 3), datetime.datetime(2020, 7, 3), \n",
    "               datetime.datetime(2020, 9, 22), datetime.datetime(2020, 12, 17)]\n",
    "flood_dates2 = [datetime.datetime(2020, 4, 5), datetime.datetime(2020, 6, 4), datetime.datetime(2020, 7, 4), \n",
    "               datetime.datetime(2020, 9, 23), datetime.datetime(2020, 12, 18)]\n",
    "\n",
    "nonflood_dates1 = [datetime.datetime(2020, 4, 18), datetime.datetime(2020, 6, 17), datetime.datetime(2020, 7, 17),\n",
    "                 datetime.datetime(2020, 10, 6), datetime.datetime(2020, 12, 30)]\n",
    "nonflood_dates2 = [datetime.datetime(2020, 4, 19), datetime.datetime(2020, 6, 18), datetime.datetime(2020, 7, 18),\n",
    "                 datetime.datetime(2020, 10, 7), datetime.datetime(2020, 12, 31)]\n",
    "\n",
    "dfdates = pd.DataFrame(flood_dates1, columns = ['Flood1'])\n",
    "dfdates['Flood2'] = flood_dates2\n",
    "dfdates['No Flood1'] = nonflood_dates1\n",
    "dfdates['No Flood2'] = nonflood_dates2\n",
    "dfdates\n",
    "#fig, (ax1, ax2) = plt.subplots(nrows = 5, ncols = 2)\n",
    "#fig, (ax3, ax4) = plt.subplots(nrows = 5, ncols = 2)\n",
    "#for i, v in df_dates.iterrows():\n",
    "          #ax1[i].hist(df_wind.loc[dfdates.iloc[i, 0:1], 'HourlyWindSpeed'])\n",
    "          #ax2[i].hist(df_wind.loc[dfdates.iloc[i, 2:3], 'HourlyWindSpeed'])\n",
    "        \n",
    "\n"
   ]
  },
  {
   "cell_type": "markdown",
   "id": "96c020c6",
   "metadata": {},
   "source": [
    "### Sea Level Rise Analysis\n",
    "#### Determining Future Flood Hours using NOAA's Predicted SLR Trend\n",
    "NOAA has determined SLR trend data for various tidal stations, including the Nantucket station. To determine the number of flood hours in future decades, the df_2000 Verified column was used  since most SLR analyses use the year 2000 as the baseline. New columns were added to the df_2000 dataframe and interpolated water level data using the SLR trend and multiplying this slope by the number of years each decade is from the baseline year, 2000, and was added to the water levels from the df_2000. A similar analysis as before was performed to determine the number of hours for each year that the water level was at or above the threshold. These hours were saved to a new dataframe, df_slr and plotted to show the linear trend of flood hours over the next century."
   ]
  },
  {
   "cell_type": "code",
   "execution_count": 13,
   "id": "c8f7d709",
   "metadata": {},
   "outputs": [],
   "source": [
    "# The goal for this analysis is to create new columns in the df_2000 dataframe where using the year 2000's water level water\n",
    "# data as the y-intercept and then multiplying the slr trend (slope) by the number of years since 2000 up to 2100. This will\n",
    "# be done using decades. Currently trying to figure out the for-loop.The end result will be a graph showing the estimated\n",
    "# number of hours at each year based on the increase in water levels from slr.\n",
    "decades = [2010, 2020, 2030, 2040, 2050, 2060, 2070, 2080, 2090, 2100]\n",
    "#for i in enumerate(decades):\n",
    "    #df_2000[i] = df_2000['Verified (ft)']+slr*(decades[i]-2000)"
   ]
  },
  {
   "cell_type": "markdown",
   "id": "c2f46490",
   "metadata": {},
   "source": [
    "#### Determining Future Flood Hours Using Trendline from 2000-2020\n",
    "The trendline that was created for the 2000-2020 data was used to determine the number of flood hours per year in future decades to compare to the NOAA SLR trend. "
   ]
  },
  {
   "cell_type": "code",
   "execution_count": 14,
   "id": "853e88a8",
   "metadata": {},
   "outputs": [
    {
     "data": {
      "text/plain": [
       "[<matplotlib.lines.Line2D at 0x1d2baf05ee0>]"
      ]
     },
     "execution_count": 14,
     "metadata": {},
     "output_type": "execute_result"
    },
    {
     "data": {
      "image/png": "[encoded data removed]",
      "text/plain": [
       "<Figure size 432x288 with 1 Axes>"
      ]
     },
     "metadata": {
      "needs_background": "light"
     },
     "output_type": "display_data"
    }
   ],
   "source": [
    "df_interp = pd.DataFrame(decades, columns = ['Years'])\n",
    "df_interp['flood_interp'] = slope*df_interp['Years']+intercept\n",
    "fig, ax10 = plt.subplots()\n",
    "ax10.plot(df_interp['Years'], df_interp['flood_interp'])"
   ]
  },
  {
   "cell_type": "code",
   "execution_count": null,
   "id": "5aa78e6b",
   "metadata": {},
   "outputs": [],
   "source": []
  },
  {
   "cell_type": "code",
   "execution_count": null,
   "id": "0a1782e0",
   "metadata": {},
   "outputs": [],
   "source": []
  },
  {
   "cell_type": "code",
   "execution_count": null,
   "id": "aee867aa",
   "metadata": {},
   "outputs": [],
   "source": []
  }
 ],
 "metadata": {
  "kernelspec": {
   "display_name": "Python 3",
   "language": "python",
   "name": "python3"
  },
  "language_info": {
   "codemirror_mode": {
    "name": "ipython",
    "version": 3
   },
   "file_extension": ".py",
   "mimetype": "text/x-python",
   "name": "python",
   "nbconvert_exporter": "python",
   "pygments_lexer": "ipython3",
   "version": "3.8.8"
  }
 },
 "nbformat": 4,
 "nbformat_minor": 5
}

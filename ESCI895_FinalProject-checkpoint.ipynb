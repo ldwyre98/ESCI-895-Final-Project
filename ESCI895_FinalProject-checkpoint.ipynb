{
 "cells": [
  {
   "cell_type": "markdown",
   "id": "e311b404",
   "metadata": {},
   "source": [
    "## Methods\n",
    "\n",
    "### Importing Libraries and Reading in Datafiles\n",
    "#### The first thing that was done was import important Python libraries that were going to be used throughout the analysis. These libraries included NumPy, Pandas, Matplotlib, and datetime."
   ]
  },
  {
   "cell_type": "code",
   "execution_count": null,
   "id": "31d00ce9",
   "metadata": {},
   "outputs": [],
   "source": [
    "import numpy as np                   # functions for data analysis \n",
    "import pandas as pd                  # functions for data frames\n",
    "from matplotlib import pyplot as plt # functions for plotting\n",
    "import datetime"
   ]
  },
  {
   "cell_type": "markdown",
   "id": "5f20aeee",
   "metadata": {},
   "source": [
    "#### Next, the datafiles that were used for the analysis were downloaded. This included the dataset from 2000 to 2020 for the Nantucket, MA Station (datum was Mean Sea Level (MSL)) and the 2020 dataset for the NOAA Local Climatology Station at Nantucket Airport, MA. These files were downloaded as CSV files and saved into the working directory for the project. Information regarding the minor or nuisance flood thresholds specific to the Massachusetts Coast were gathered from the NOAA Inundation History site where a minor flood threshold for Boston is given as about 7 feet above MSL. The Mean High High Water (MHHW) datum was also recorded. Sea Level Trend data was also gathered from the NOAA Sea Level Trend Site where a 2.87 mm/year was determined as the relative sea level trend for the Boston station.  Once this data were gathered and organized, the constants were defined to be used throughout the code. These constants included the filenames, locations of the stations used, minor flood threshold, MHHW datum, and sea level trend."
   ]
  },
  {
   "cell_type": "code",
   "execution_count": null,
   "id": "72254833",
   "metadata": {},
   "outputs": [],
   "source": []
  }
 ],
 "metadata": {
  "kernelspec": {
   "display_name": "Python 3",
   "language": "python",
   "name": "python3"
  },
  "language_info": {
   "codemirror_mode": {
    "name": "ipython",
    "version": 3
   },
   "file_extension": ".py",
   "mimetype": "text/x-python",
   "name": "python",
   "nbconvert_exporter": "python",
   "pygments_lexer": "ipython3",
   "version": "3.8.8"
  }
 },
 "nbformat": 4,
 "nbformat_minor": 5
}
